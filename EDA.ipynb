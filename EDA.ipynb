{
 "cells": [
  {
   "cell_type": "code",
   "execution_count": 1,
   "metadata": {},
   "outputs": [],
   "source": [
    "import pandas as pd"
   ]
  },
  {
   "cell_type": "code",
   "execution_count": 2,
   "metadata": {},
   "outputs": [
    {
     "name": "stdout",
     "output_type": "stream",
     "text": [
      "<class 'pandas.core.frame.DataFrame'>\n",
      "RangeIndex: 3588295 entries, 0 to 3588294\n",
      "Data columns (total 19 columns):\n",
      " #   Column                 Dtype         \n",
      "---  ------                 -----         \n",
      " 0   VendorID               int64         \n",
      " 1   tpep_pickup_datetime   datetime64[ns]\n",
      " 2   tpep_dropoff_datetime  datetime64[ns]\n",
      " 3   passenger_count        float64       \n",
      " 4   trip_distance          float64       \n",
      " 5   RatecodeID             float64       \n",
      " 6   store_and_fwd_flag     object        \n",
      " 7   PULocationID           int64         \n",
      " 8   DOLocationID           int64         \n",
      " 9   payment_type           int64         \n",
      " 10  fare_amount            float64       \n",
      " 11  extra                  float64       \n",
      " 12  mta_tax                float64       \n",
      " 13  tip_amount             float64       \n",
      " 14  tolls_amount           float64       \n",
      " 15  improvement_surcharge  float64       \n",
      " 16  total_amount           float64       \n",
      " 17  congestion_surcharge   float64       \n",
      " 18  airport_fee            float64       \n",
      "dtypes: datetime64[ns](2), float64(12), int64(4), object(1)\n",
      "memory usage: 520.2+ MB\n"
     ]
    }
   ],
   "source": [
    "df = pd.read_parquet(\"/home/asado/Descargas/yellow_tripdata_2022-05.parquet\")\n",
    "df.info()"
   ]
  },
  {
   "cell_type": "code",
   "execution_count": 3,
   "metadata": {},
   "outputs": [
    {
     "data": {
      "text/plain": [
       "VendorID  tpep_pickup_datetime  tpep_dropoff_datetime  passenger_count  trip_distance  RatecodeID  store_and_fwd_flag  PULocationID  DOLocationID  payment_type  fare_amount  extra  mta_tax  tip_amount  tolls_amount  improvement_surcharge  total_amount  congestion_surcharge  airport_fee\n",
       "1         2022-05-01 00:00:04   2022-05-01 00:08:09    1.0              1.30           1.0         N                   238           143           1              6.5          3.0    0.5     7.00        0.0            0.3                    17.30         2.5                  0.00           1\n",
       "2         2022-05-16 22:58:54   2022-05-16 23:07:13    1.0              1.60           1.0         N                   186           162           4             -8.0         -0.5   -0.5     0.00        0.0           -0.3                   -11.80        -2.5                  0.00           1\n",
       "          2022-05-16 22:58:29   2022-05-16 23:04:34    1.0              1.36           1.0         N                   236           238           1              7.0          0.5    0.5     2.00        0.0            0.3                    12.80         2.5                  0.00           1\n",
       "                                2022-05-16 23:07:42    1.0              2.70           1.0         N                   141           41            2              10.0         0.5    0.5     0.00        0.0            0.3                    13.80         2.5                  0.00           1\n",
       "          2022-05-16 22:58:31   2022-05-16 23:11:58    2.0              2.21           1.0         N                   234           45            1              11.0         0.5    0.5     2.96        0.0            0.3                    17.76         2.5                  0.00           1\n",
       "                                                                                                                                                                                                                                                                                                 ..\n",
       "          2022-05-02 18:44:58   2022-05-02 19:05:01    1.0              8.05           1.0         N                   138           160           1              24.0         1.0    0.5     7.74        0.0            0.3                    34.79         0.0                  1.25           1\n",
       "          2022-05-02 18:44:59   2022-05-02 18:50:10    1.0              0.83           1.0         N                   141           229           2              5.5          1.0    0.5     0.00        0.0            0.3                    9.80          2.5                  0.00           1\n",
       "                                2022-05-02 18:53:12    1.0              0.98           1.0         N                   237           263           2              7.0          1.0    0.5     0.00        0.0            0.3                    11.30         2.5                  0.00           1\n",
       "          2022-05-02 18:45:00   2022-05-02 18:51:25    3.0              1.02           1.0         N                   90            48            1              6.0          1.0    0.5     2.06        0.0            0.3                    12.36         2.5                  0.00           1\n",
       "          2022-06-01 23:55:30   2022-06-02 00:02:50    1.0              1.06           1.0         N                   229           163           2              6.5          0.5    0.5     0.00        0.0            0.3                    10.30         2.5                  0.00           1\n",
       "Name: count, Length: 3458771, dtype: int64"
      ]
     },
     "execution_count": 3,
     "metadata": {},
     "output_type": "execute_result"
    }
   ],
   "source": [
    "df.value_counts()"
   ]
  }
 ],
 "metadata": {
  "kernelspec": {
   "display_name": "Python 3",
   "language": "python",
   "name": "python3"
  },
  "language_info": {
   "codemirror_mode": {
    "name": "ipython",
    "version": 3
   },
   "file_extension": ".py",
   "mimetype": "text/x-python",
   "name": "python",
   "nbconvert_exporter": "python",
   "pygments_lexer": "ipython3",
   "version": "3.8.10"
  },
  "orig_nbformat": 4
 },
 "nbformat": 4,
 "nbformat_minor": 2
}
